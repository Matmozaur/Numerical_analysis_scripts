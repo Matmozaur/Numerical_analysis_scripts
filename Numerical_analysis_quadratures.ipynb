{
 "cells": [
  {
   "cell_type": "code",
   "execution_count": null,
   "metadata": {},
   "outputs": [],
   "source": [
    "def trapeze_integration_modified(my_func, a, b, n):\n",
    "  # Wysokość trapezu\n",
    "  delta_x = (b-a)/n\n",
    "  # Tym razem wyeliminujemy mnożenia, co krok dodając do x nasze delta_x\n",
    "  # Musimy pamiętać, że błędy zaokrągleń mogą się skumulować i istotnie\n",
    "  # zniekształcić wynik\n",
    "    \n",
    "  for _ in range(1, n):\n",
    "    subtotal += my_func(x)\n",
    "    x += delta_x\n",
    "  # Na końcu wykonujemy mnożenie i dzielenie\n",
    "  return subtotal * delta_x / 2\n",
    "\n",
    "# Wywołujemy naszą funkcję całkującą, przekazując wzór całkowanej funkcji jako lambdę\n",
    "integral = trapeze_integration_modified(lambda x: x**2, 0.0, 1.0, 100)"
   ]
  }
 ],
 "metadata": {
  "kernelspec": {
   "display_name": "Python 3",
   "language": "python",
   "name": "python3"
  },
  "language_info": {
   "codemirror_mode": {
    "name": "ipython",
    "version": 3
   },
   "file_extension": ".py",
   "mimetype": "text/x-python",
   "name": "python",
   "nbconvert_exporter": "python",
   "pygments_lexer": "ipython3",
   "version": "3.7.3"
  }
 },
 "nbformat": 4,
 "nbformat_minor": 2
}
